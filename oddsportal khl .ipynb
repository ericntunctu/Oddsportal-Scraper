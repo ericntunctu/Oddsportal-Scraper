{
 "cells": [
  {
   "cell_type": "code",
   "execution_count": 2,
   "metadata": {},
   "outputs": [
    {
     "name": "stdout",
     "output_type": "stream",
     "text": [
      "Salavat Ufa - Avangard Omsk\n"
     ]
    },
    {
     "data": {
      "text/plain": [
       "{' 18bet  ': ['2.55', '3.90', '2.30'],\n",
       " ' 1xBet  ': ['2.64', '4.14', '2.39'],\n",
       " ' Bethard  ': ['2.65', '4.00', '2.35'],\n",
       " ' Coolbet  ': ['2.63', '4.05', '2.47'],\n",
       " ' Marathonbet  ': ['2.61', '4.20', '2.38'],\n",
       " ' Pinnacle  ': ['2.65', '4.06', '2.31'],\n",
       " ' bet-at-home  ': ['2.55', '3.71', '2.28'],\n",
       " ' bet365  ': ['2.70', '3.75', '2.35'],\n",
       " ' bwin  ': ['2.65', '4.00', '2.30'],\n",
       " None: [None, None, None]}"
      ]
     },
     "execution_count": 2,
     "metadata": {},
     "output_type": "execute_result"
    }
   ],
   "source": [
    "import urllib\n",
    "from selenium import webdriver\n",
    "import urllib.request\n",
    "import time\n",
    "import re\n",
    "from selenium.webdriver.common.keys import Keys\n",
    "\n",
    "\n",
    "driver = webdriver.Chrome(executable_path=\"/Users/kuoenjui/Desktop/test/chromedriver\") # choose the  webdriver location (chrome)\n",
    "driver.get(\"https://www.oddsportal.com/hockey/russia/khl/\")  # comics url\n",
    "\n",
    "## change odds viewer\n",
    "driver.find_element_by_xpath('//*[@id=\"user-header-oddsformat-expander\"]/span').click()\n",
    "driver.find_element_by_xpath('//*[@id=\"user-header-oddsformat\"]/li[1]/a/span').click()\n",
    "\n",
    "## click the first one\n",
    "\n",
    "\n",
    "\n",
    "def fi(a):\n",
    "    try:\n",
    "        driver.find_element_by_xpath(a).text\n",
    "    except:\n",
    "        return False\n",
    "def ffi(a):\n",
    "    if(fi(a)!=False):\n",
    "         return driver.find_element_by_xpath(a).text\n",
    "\n",
    "\n",
    "\n",
    "a= dict();\n",
    "def ell(i,j):\n",
    "    return ffi('//*[@id=\"odds-data-table\"]/div[1]/table/tbody/tr['+str(i)+']/td['+str(j)+']')\n",
    "\n",
    "\n",
    "def f(i):\n",
    "    try:\n",
    "        a[ell(i,1)]=[ell(i,2), ell(i,3), ell(i,4)]\n",
    "    except:\n",
    "        print('')\n",
    "\n",
    "   \n",
    "\n",
    "    \n",
    "    \n",
    "time.sleep(2)\n",
    "driver.find_element_by_xpath('//*[@id=\"tournamentTable\"]/tbody/tr[4]/td[2]/a').click()\n",
    "         \n",
    "    \n",
    "\n",
    "    \n",
    "\n",
    "\n",
    "\n",
    "\n",
    "\n",
    "\n",
    "\n",
    "print(driver.find_element_by_xpath('//*[@id=\"col-content\"]/h1').text)\n",
    "\n",
    "\n",
    "time.sleep(1)\n",
    "\n",
    "a= dict();\n",
    "for i in range(0,10):\n",
    "        f(i)\n",
    "\n",
    "        \n",
    "        \n",
    "a\n",
    "\n",
    "\n",
    "## again\n",
    "\n"
   ]
  },
  {
   "cell_type": "code",
   "execution_count": 3,
   "metadata": {},
   "outputs": [
    {
     "name": "stdout",
     "output_type": "stream",
     "text": [
      "{' Pinnacle  ': ['2.65', '4.06', '2.31'], ' Marathonbet  ': ['2.61', '4.20', '2.38'], ' bwin  ': ['2.65', '4.00', '2.30'], ' bet-at-home  ': ['2.55', '3.71', '2.28'], ' Coolbet  ': ['2.63', '4.05', '2.47'], ' 1xBet  ': ['2.64', '4.14', '2.39'], ' bet365  ': ['2.70', '3.75', '2.35'], None: [None, None, None], ' 18bet  ': ['2.55', '3.90', '2.30'], ' Bethard  ': ['2.65', '4.00', '2.35']}\n",
      "{' Pinnacle  ': ['2.65', '4.06', '2.31'], ' Marathonbet  ': ['2.61', '4.20', '2.38'], ' bwin  ': ['2.65', '4.00', '2.30'], ' bet-at-home  ': ['2.55', '3.71', '2.28'], ' Coolbet  ': ['2.63', '4.05', '2.47'], ' 1xBet  ': ['2.64', '4.14', '2.39'], ' bet365  ': ['2.70', '3.75', '2.35'], None: [None, None, None], ' 18bet  ': ['2.55', '3.90', '2.30'], ' Bethard  ': ['2.65', '4.00', '2.35']}\n",
      "{' Pinnacle  ': ['2.65', '4.06', '2.31'], ' Marathonbet  ': ['2.61', '4.20', '2.38'], ' bwin  ': ['2.65', '4.00', '2.30'], ' bet-at-home  ': ['2.55', '3.71', '2.28'], ' Coolbet  ': ['2.63', '4.05', '2.47'], ' 1xBet  ': ['2.64', '4.14', '2.39'], ' bet365  ': ['2.70', '3.75', '2.35'], None: [None, None, None], ' 18bet  ': ['2.55', '3.90', '2.30'], ' Bethard  ': ['2.65', '4.00', '2.35']}\n",
      "{' Pinnacle  ': ['2.65', '4.06', '2.31'], ' Marathonbet  ': ['2.61', '4.20', '2.38'], ' bwin  ': ['2.65', '4.00', '2.30'], ' bet-at-home  ': ['2.55', '3.71', '2.28'], ' Coolbet  ': ['2.63', '4.05', '2.47'], ' 1xBet  ': ['2.64', '4.14', '2.39'], ' bet365  ': ['2.70', '3.75', '2.35'], None: [None, None, None], ' 18bet  ': ['2.55', '3.90', '2.30'], ' Bethard  ': ['2.65', '4.00', '2.35']}\n"
     ]
    }
   ],
   "source": [
    "for i in range(0,4):\n",
    "    time.sleep(5)\n",
    "    a= dict();\n",
    "    for i in range(0,10):\n",
    "        f(i)\n",
    "    print(a)\n"
   ]
  },
  {
   "cell_type": "code",
   "execution_count": null,
   "metadata": {},
   "outputs": [],
   "source": [
    "driver.find_element_by_xpath('//*[@id=\"tournamentTable\"]/tbody/tr[4]/td[2]/a')./click()"
   ]
  },
  {
   "cell_type": "code",
   "execution_count": null,
   "metadata": {},
   "outputs": [],
   "source": [
    "="
   ]
  },
  {
   "cell_type": "code",
   "execution_count": null,
   "metadata": {},
   "outputs": [],
   "source": []
  },
  {
   "cell_type": "code",
   "execution_count": null,
   "metadata": {},
   "outputs": [],
   "source": []
  }
 ],
 "metadata": {
  "kernelspec": {
   "display_name": "Python 3",
   "language": "python",
   "name": "python3"
  },
  "language_info": {
   "codemirror_mode": {
    "name": "ipython",
    "version": 3
   },
   "file_extension": ".py",
   "mimetype": "text/x-python",
   "name": "python",
   "nbconvert_exporter": "python",
   "pygments_lexer": "ipython3",
   "version": "3.5.6"
  }
 },
 "nbformat": 4,
 "nbformat_minor": 2
}
